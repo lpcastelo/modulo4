arquivo de pyhton vazio
para teste